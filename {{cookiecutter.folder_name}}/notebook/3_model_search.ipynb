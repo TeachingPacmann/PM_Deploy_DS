{
 "cells": [
  {
   "cell_type": "code",
   "execution_count": 1,
   "id": "67fc04df-696b-40e4-85f7-59faf1991144",
   "metadata": {},
   "outputs": [],
   "source": [
    "import pandas as pd\n",
    "import numpy as np\n",
    "import seaborn as sns\n",
    "import joblib\n",
    "from sklearn.linear_model import Lasso\n",
    "from sklearn.ensemble import RandomForestRegressor\n",
    "from sklearn.svm import LinearSVR\n",
    "from sklearn.model_selection import RandomizedSearchCV\n",
    "from sklearn import metrics\n",
    "import random\n",
    "import yaml"
   ]
  },
  {
   "cell_type": "code",
   "execution_count": 2,
   "id": "646edde2-74ec-4ea4-84f1-b730e3fa7834",
   "metadata": {},
   "outputs": [],
   "source": [
    "f = open(\"src/params/preprocess_params.yaml\", \"r\")\n",
    "params = yaml.load(f, Loader=yaml.SafeLoader)\n",
    "f.close()"
   ]
  },
  {
   "cell_type": "code",
   "execution_count": 3,
   "id": "14b6f5e1-8d20-476a-9664-d35c51baea14",
   "metadata": {},
   "outputs": [],
   "source": [
    "def read_data():\n",
    "    x_train = joblib.load('output/x_train.pkl')\n",
    "    y_train = joblib.load('output/y_train.pkl')\n",
    "    x_valid = joblib.load('output/x_valid.pkl')\n",
    "    y_valid = joblib.load('output/y_valid.pkl')\n",
    "\n",
    "    return x_train, y_train, x_valid, y_valid"
   ]
  },
  {
   "cell_type": "code",
   "execution_count": 4,
   "id": "139bdb1b-b972-4de0-be28-f4230dc326df",
   "metadata": {},
   "outputs": [],
   "source": [
    "x_train, y_train, x_valid, y_valid = read_data()"
   ]
  },
  {
   "cell_type": "code",
   "execution_count": 2,
   "id": "4f828508-b0e7-4103-a7b7-3854c87e181c",
   "metadata": {},
   "outputs": [],
   "source": [
    "def model_lasso():\n",
    "    param_dist = {'alpha': np.random.uniform(0.01,3,1000)}\n",
    "    base_model = Lasso(random_state=42, selection='random')\n",
    "    return param_dist, base_model\n",
    "\n",
    "\n",
    "def model_rf():\n",
    "    param_dist = {\"n_estimators\": [100, 250, 500, 1000]}\n",
    "    base_model = RandomForestClassifier(random_state=0, n_jobs=-1)\n",
    "    return param_dist, base_model\n",
    "\n",
    "\n",
    "def model_svr():\n",
    "    param_dist = {'C': [0.25, 0.5, 1, 1.25]}\n",
    "    base_model = LinearSVR(dual=False, max_iter=10000)\n",
    "    return param_dist, base_model"
   ]
  },
  {
   "cell_type": "code",
   "execution_count": 3,
   "id": "c9380a18-d5bf-4154-99e5-9bf1d77ab680",
   "metadata": {},
   "outputs": [],
   "source": [
    "def random_search_cv(model, param, scoring, n_iter, x, y, verbosity=0):\n",
    "    random_fit = RandomizedSearchCV(estimator=model,\n",
    "                                    param_distributions=param,\n",
    "                                    scoring=scoring,\n",
    "                                    n_iter=n_iter,\n",
    "                                    cv=5,\n",
    "                                    random_state=0,\n",
    "                                    verbose=verbosity)\n",
    "    random_fit.fit(x, y)\n",
    "    return random_fit"
   ]
  },
  {
   "cell_type": "code",
   "execution_count": 4,
   "id": "593b0442-3864-4257-b0a6-a83000a006eb",
   "metadata": {},
   "outputs": [],
   "source": [
    "def evaluate(true, predicted):\n",
    "    mae = metrics.mean_absolute_error(true, predicted)\n",
    "    mse = metrics.mean_squared_error(true, predicted)\n",
    "    rmse = np.sqrt(metrics.mean_squared_error(true, predicted))\n",
    "    r2_square = metrics.r2_score(true, predicted)\n",
    "    return mae, mse, rmse, r2_square"
   ]
  },
  {
   "cell_type": "code",
   "execution_count": 5,
   "id": "af5dfcef-fba7-4bdc-924f-d1ab840a2c1f",
   "metadata": {},
   "outputs": [],
   "source": [
    "def evaluate(true, predicted):\n",
    "    mae = metrics.mean_absolute_error(true, predicted)\n",
    "    mse = metrics.mean_squared_error(true, predicted)\n",
    "    rmse = np.sqrt(metrics.mean_squared_error(true, predicted))\n",
    "    r2_square = metrics.r2_score(true, predicted)\n",
    "    return mae, mse, rmse, r2_square\n",
    "\n",
    "\n",
    "def fit(x_train, y_train, model, model_param, general_params):\n",
    "    \"\"\"\n",
    "    Fit model\n",
    "\n",
    "    Args:\n",
    "        - model(callable): Sklearn / imblearn model\n",
    "        - model_param(dict): sklearn's RandomizedSearchCV param_distribution\n",
    "        - general_params(dict): general parameters for the function\n",
    "            - target(str) : y column to be used   \n",
    "            - scoring(str) : sklearn cross-val scoring scheme\n",
    "            - n_iter_search : RandomizedSearchCV number of iteration\n",
    "    \"\"\"\n",
    "\n",
    "    model_fitted = random_search_cv(model, model_param,\n",
    "                                    general_params['scoring'],\n",
    "                                    general_params['n_iter_search'],\n",
    "                                    x_train, y_train,\n",
    "                                    general_params['verbosity'])\n",
    "\n",
    "    print(\n",
    "        f'Model: {model_fitted.best_estimator_}, {general_params[\"scoring\"]}: {model_fitted.best_score_}')\n",
    "\n",
    "    return model_fitted\n",
    "\n",
    "\n",
    "def validation_score(x_valid, y_valid, model_fitted):\n",
    "    \n",
    "    # Report default\n",
    "    y_predicted = model_fitted.predict(x_valid)\n",
    "    mae, mse, rmse, r2_square = evaluate(y_valid, y_predicted)\n",
    "    score = {'mae':mae, 'mse':mse, 'rmse':rmse, 'r2': r2_square}\n",
    "\n",
    "    return score"
   ]
  },
  {
   "cell_type": "code",
   "execution_count": null,
   "id": "ac03f981-49c0-4fd9-abe5-9b7ac0674e87",
   "metadata": {},
   "outputs": [],
   "source": []
  },
  {
   "cell_type": "code",
   "execution_count": null,
   "id": "eadcde19-0a8d-4534-b5c3-337f887f00a4",
   "metadata": {},
   "outputs": [],
   "source": []
  }
 ],
 "metadata": {
  "kernelspec": {
   "display_name": "Python 3 (ipykernel)",
   "language": "python",
   "name": "python3"
  },
  "language_info": {
   "codemirror_mode": {
    "name": "ipython",
    "version": 3
   },
   "file_extension": ".py",
   "mimetype": "text/x-python",
   "name": "python",
   "nbconvert_exporter": "python",
   "pygments_lexer": "ipython3",
   "version": "3.9.7"
  }
 },
 "nbformat": 4,
 "nbformat_minor": 5
}
