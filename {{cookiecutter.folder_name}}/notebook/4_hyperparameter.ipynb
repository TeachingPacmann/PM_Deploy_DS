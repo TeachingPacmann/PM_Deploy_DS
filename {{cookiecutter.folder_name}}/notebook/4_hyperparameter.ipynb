{
 "cells": [
  {
   "cell_type": "code",
   "execution_count": 1,
   "id": "bb2694ff-6fe5-4df8-bc19-3c4c3b4249a1",
   "metadata": {
    "tags": []
   },
   "outputs": [],
   "source": [
    "import pandas as pd\n",
    "import numpy as np\n",
    "import seaborn as sns\n",
    "import joblib\n",
    "import sklearn\n",
    "from sklearn.linear_model import Lasso\n",
    "from sklearn.ensemble import RandomForestRegressor\n",
    "from sklearn.svm import LinearSVR\n",
    "from sklearn.model_selection import RandomizedSearchCV\n",
    "from sklearn import metrics\n",
    "import yaml\n",
    "import time"
   ]
  },
  {
   "cell_type": "code",
   "execution_count": 2,
   "id": "4d8c3cce-6655-4af7-8819-bb819924ab63",
   "metadata": {},
   "outputs": [
    {
     "data": {
      "text/plain": [
       "'1.0.1'"
      ]
     },
     "execution_count": 2,
     "metadata": {},
     "output_type": "execute_result"
    }
   ],
   "source": [
    "sklearn. __version__"
   ]
  },
  {
   "cell_type": "code",
   "execution_count": 29,
   "id": "23e1e3b4-8f9e-40d9-a86c-4357892535d6",
   "metadata": {},
   "outputs": [],
   "source": [
    "def read_data(params):\n",
    "    x_train = joblib.load(params['DUMP_TRAIN'])\n",
    "    y_train = joblib.load(params['Y_PATH_TRAIN'])\n",
    "    x_valid = joblib.load(params['DUMP_VALID'])\n",
    "    y_valid = joblib.load(params['Y_PATH_VALID'])\n",
    "\n",
    "    return x_train, y_train, x_valid, y_valid\n",
    "\n",
    "\n",
    "def model_lasso():\n",
    "    param_dist = {'alpha': np.random.uniform(0.01,1,3)}\n",
    "    base_model = Lasso(random_state=42, selection='random')\n",
    "    return param_dist, base_model\n",
    "\n",
    "\n",
    "def model_rf():\n",
    "    param_dist = {\"n_estimators\": [100, 250, 500, 1000]}\n",
    "    base_model = RandomForestRegressor(random_state=0, n_jobs=-1)\n",
    "    return param_dist, base_model\n",
    "\n",
    "\n",
    "def model_svr():\n",
    "    param_dist = {'C': [0.25, 0.5, 1, 1.25]}\n",
    "    base_model = LinearSVR(loss = 'squared_epsilon_insensitive', dual=False, max_iter=10000)\n",
    "    return param_dist, base_model\n",
    "\n",
    "\n",
    "def random_search_cv(model, param, scoring, n_iter, x, y, verbosity=0):\n",
    "    random_fit = RandomizedSearchCV(estimator=model,\n",
    "                                    param_distributions=param,\n",
    "                                    scoring=scoring,\n",
    "                                    n_iter=n_iter,\n",
    "                                    cv=5,\n",
    "                                    random_state=0,\n",
    "                                    verbose=verbosity, refit=scoring[0])\n",
    "    random_fit.fit(x, y)\n",
    "    return random_fit\n",
    "\n",
    "\n",
    "def evaluate(true, predicted):\n",
    "    mae = metrics.mean_absolute_error(true, predicted)\n",
    "    mse = metrics.mean_squared_error(true, predicted)\n",
    "    rmse = np.sqrt(metrics.mean_squared_error(true, predicted))\n",
    "    r2_square = metrics.r2_score(true, predicted)\n",
    "    mape = metrics.mean_absolute_percentage_error(true, predicted)\n",
    "    exp_var = metrics.explained_variance_score(true, predicted)\n",
    "    return mae, mse, rmse, r2_square, mape, exp_var\n",
    "\n",
    "\n",
    "def fit(x_train, y_train, model, model_param, general_params):\n",
    "    \"\"\"\n",
    "    Fit model\n",
    "\n",
    "    Args:\n",
    "        - model(callable): Sklearn / imblearn model\n",
    "        - model_param(dict): sklearn's RandomizedSearchCV param_distribution\n",
    "        - general_params(dict):x general parameters for the function\n",
    "            - target(str) : y column to be used   \n",
    "            - scoring(str) : sklearn cross-val scoring scheme\n",
    "            - n_iter_search : RandomizedSearchCV number of iteration\n",
    "    \"\"\"\n",
    "    #print( general_params['scoring'])\n",
    "\n",
    "    model_fitted = random_search_cv(model, model_param,\n",
    "                                    general_params['scoring'],\n",
    "                                    general_params['n_iter_search'],\n",
    "                                    x_train, y_train,\n",
    "                                    general_params['verbosity'])\n",
    "\n",
    "    \n",
    "    print(\n",
    "        f'Model: {model_fitted.best_estimator_}, {general_params[\"scoring\"][0]}: {model_fitted.best_score_}')\n",
    "\n",
    "    return model_fitted, model_fitted.best_estimator_\n",
    "\n",
    "\n",
    "def validation_score(x_valid, y_valid, model_fitted):\n",
    "    \n",
    "    # Report default\n",
    "    y_predicted = model_fitted.predict(x_valid)\n",
    "    mae, mse, rmse, r2_square, mape, exp_var = evaluate(y_valid, y_predicted)\n",
    "    score = {'mae':mae, 'mse':mse, 'rmse':rmse, 'r2': r2_square, 'mape': mape, 'exp_var': exp_var}\n",
    "\n",
    "    return score\n",
    "\n",
    "def select_model(train_log_dict):\n",
    "    temp = []\n",
    "    for score in train_log_dict['model_score']:\n",
    "        temp.append(score['rmse'])\n",
    "    #print(temp)\n",
    "    best_model = train_log_dict['model_fit'][temp.index(min(temp))]\n",
    "    best_parameter = train_log_dict['model_report'][temp.index(min(temp))]\n",
    "    best_report = train_log_dict['model_score'][temp.index(min(temp))]\n",
    "    \n",
    "    return best_model, best_parameter, best_report"
   ]
  },
  {
   "cell_type": "code",
   "execution_count": 30,
   "id": "a41de73b-9796-4d41-bd63-e7af6a2282e6",
   "metadata": {},
   "outputs": [],
   "source": [
    "def main(params):\n",
    "\n",
    "    lasso = model_lasso\n",
    "    rf = model_rf\n",
    "    lsvr = model_svr\n",
    "\n",
    "    train_log_dict = {'model': [lasso, rf, lsvr],\n",
    "                      'model_name': [],\n",
    "                      'model_fit': [],\n",
    "                      'model_report': [],\n",
    "                      'model_score': [],\n",
    "                      'fit_time': []}\n",
    "\n",
    "    x_train, y_train, x_valid, y_valid  = read_data(params)\n",
    "\n",
    "    for model in train_log_dict['model']:\n",
    "        param_model, base_model = model()\n",
    "        train_log_dict['model_name'].append(base_model.__class__.__name__)\n",
    "        print(\n",
    "           f'Fitting {base_model.__class__.__name__}')\n",
    "\n",
    "        # Train\n",
    "        t0 = time.time()\n",
    "        fitted_model,best_estimator = fit(\n",
    "            x_train, y_train, base_model, param_model, params)\n",
    "        elapsed_time = time.time() - t0\n",
    "        print(f'elapsed time: {elapsed_time} s \\n')\n",
    "        train_log_dict['fit_time'].append(elapsed_time)\n",
    "        train_log_dict['model_fit'].append(best_estimator.__class__.__name__)\n",
    "        train_log_dict['model_report'].append(best_estimator)\n",
    "\n",
    "        fitted_model.fit(x_train, y_train)\n",
    "        # Validate\n",
    "        score = validation_score( x_valid, y_valid, fitted_model)\n",
    "        #train_log_dict['model_score'].append(\n",
    "        #    report['f1-score']['macro avg'])\n",
    "        train_log_dict['model_score'].append(\n",
    "            score)\n",
    "\n",
    "\n",
    "    best_model, best_parameter, best_report = select_model(\n",
    "        train_log_dict)\n",
    "    print(\n",
    "        f\"Model: {best_model}, Score: {best_report}, Parameter: {best_parameter}\")\n",
    "    joblib.dump(best_model, 'output/isrelated_model.pkl')\n",
    "    joblib.dump(best_parameter, 'output/isrelated_parameter.pkl')\n",
    "    joblib.dump(train_log_dict, 'output/isrelated_train_log.pkl')\n",
    "    "
   ]
  },
  {
   "cell_type": "code",
   "execution_count": 27,
   "id": "a6032693-7be4-4d6f-97dc-1281f2dad1cc",
   "metadata": {},
   "outputs": [],
   "source": [
    "f = open(\"src/params/preprocess_params.yaml\", \"r\")\n",
    "params = yaml.load(f, Loader=yaml.SafeLoader)\n",
    "f.close()"
   ]
  },
  {
   "cell_type": "code",
   "execution_count": 28,
   "id": "835a0846-0615-41f7-80dc-d0d4f307fc83",
   "metadata": {},
   "outputs": [
    {
     "name": "stdout",
     "output_type": "stream",
     "text": [
      "Fitting Lasso\n",
      "Fitting 5 folds for each of 3 candidates, totalling 15 fits\n"
     ]
    },
    {
     "name": "stderr",
     "output_type": "stream",
     "text": [
      "C:\\Users\\feriocode\\anaconda3\\lib\\site-packages\\sklearn\\linear_model\\_coordinate_descent.py:647: ConvergenceWarning: Objective did not converge. You might want to increase the number of iterations, check the scale of the features or consider increasing regularisation. Duality gap: 1.688e+10, tolerance: 5.166e+08\n",
      "  model = cd_fast.enet_coordinate_descent(\n"
     ]
    },
    {
     "name": "stdout",
     "output_type": "stream",
     "text": [
      "[CV] END ............................alpha=0.901620047026447; total time=   0.3s\n"
     ]
    },
    {
     "name": "stderr",
     "output_type": "stream",
     "text": [
      "C:\\Users\\feriocode\\anaconda3\\lib\\site-packages\\sklearn\\linear_model\\_coordinate_descent.py:647: ConvergenceWarning: Objective did not converge. You might want to increase the number of iterations, check the scale of the features or consider increasing regularisation. Duality gap: 7.284e+09, tolerance: 5.438e+08\n",
      "  model = cd_fast.enet_coordinate_descent(\n"
     ]
    },
    {
     "name": "stdout",
     "output_type": "stream",
     "text": [
      "[CV] END ............................alpha=0.901620047026447; total time=   0.4s\n"
     ]
    },
    {
     "name": "stderr",
     "output_type": "stream",
     "text": [
      "C:\\Users\\feriocode\\anaconda3\\lib\\site-packages\\sklearn\\linear_model\\_coordinate_descent.py:647: ConvergenceWarning: Objective did not converge. You might want to increase the number of iterations, check the scale of the features or consider increasing regularisation. Duality gap: 1.240e+10, tolerance: 4.886e+08\n",
      "  model = cd_fast.enet_coordinate_descent(\n"
     ]
    },
    {
     "name": "stdout",
     "output_type": "stream",
     "text": [
      "[CV] END ............................alpha=0.901620047026447; total time=   0.3s\n"
     ]
    },
    {
     "name": "stderr",
     "output_type": "stream",
     "text": [
      "C:\\Users\\feriocode\\anaconda3\\lib\\site-packages\\sklearn\\linear_model\\_coordinate_descent.py:647: ConvergenceWarning: Objective did not converge. You might want to increase the number of iterations, check the scale of the features or consider increasing regularisation. Duality gap: 1.469e+10, tolerance: 5.353e+08\n",
      "  model = cd_fast.enet_coordinate_descent(\n"
     ]
    },
    {
     "name": "stdout",
     "output_type": "stream",
     "text": [
      "[CV] END ............................alpha=0.901620047026447; total time=   0.3s\n"
     ]
    },
    {
     "name": "stderr",
     "output_type": "stream",
     "text": [
      "C:\\Users\\feriocode\\anaconda3\\lib\\site-packages\\sklearn\\linear_model\\_coordinate_descent.py:647: ConvergenceWarning: Objective did not converge. You might want to increase the number of iterations, check the scale of the features or consider increasing regularisation. Duality gap: 1.790e+10, tolerance: 4.869e+08\n",
      "  model = cd_fast.enet_coordinate_descent(\n"
     ]
    },
    {
     "name": "stdout",
     "output_type": "stream",
     "text": [
      "[CV] END ............................alpha=0.901620047026447; total time=   0.3s\n"
     ]
    },
    {
     "name": "stderr",
     "output_type": "stream",
     "text": [
      "C:\\Users\\feriocode\\anaconda3\\lib\\site-packages\\sklearn\\linear_model\\_coordinate_descent.py:647: ConvergenceWarning: Objective did not converge. You might want to increase the number of iterations, check the scale of the features or consider increasing regularisation. Duality gap: 1.682e+10, tolerance: 5.166e+08\n",
      "  model = cd_fast.enet_coordinate_descent(\n"
     ]
    },
    {
     "name": "stdout",
     "output_type": "stream",
     "text": [
      "[CV] END ...........................alpha=0.9341182081296724; total time=   0.4s\n"
     ]
    },
    {
     "name": "stderr",
     "output_type": "stream",
     "text": [
      "C:\\Users\\feriocode\\anaconda3\\lib\\site-packages\\sklearn\\linear_model\\_coordinate_descent.py:647: ConvergenceWarning: Objective did not converge. You might want to increase the number of iterations, check the scale of the features or consider increasing regularisation. Duality gap: 7.206e+09, tolerance: 5.438e+08\n",
      "  model = cd_fast.enet_coordinate_descent(\n"
     ]
    },
    {
     "name": "stdout",
     "output_type": "stream",
     "text": [
      "[CV] END ...........................alpha=0.9341182081296724; total time=   0.4s\n"
     ]
    },
    {
     "name": "stderr",
     "output_type": "stream",
     "text": [
      "C:\\Users\\feriocode\\anaconda3\\lib\\site-packages\\sklearn\\linear_model\\_coordinate_descent.py:647: ConvergenceWarning: Objective did not converge. You might want to increase the number of iterations, check the scale of the features or consider increasing regularisation. Duality gap: 1.226e+10, tolerance: 4.886e+08\n",
      "  model = cd_fast.enet_coordinate_descent(\n"
     ]
    },
    {
     "name": "stdout",
     "output_type": "stream",
     "text": [
      "[CV] END ...........................alpha=0.9341182081296724; total time=   0.3s\n"
     ]
    },
    {
     "name": "stderr",
     "output_type": "stream",
     "text": [
      "C:\\Users\\feriocode\\anaconda3\\lib\\site-packages\\sklearn\\linear_model\\_coordinate_descent.py:647: ConvergenceWarning: Objective did not converge. You might want to increase the number of iterations, check the scale of the features or consider increasing regularisation. Duality gap: 1.461e+10, tolerance: 5.353e+08\n",
      "  model = cd_fast.enet_coordinate_descent(\n"
     ]
    },
    {
     "name": "stdout",
     "output_type": "stream",
     "text": [
      "[CV] END ...........................alpha=0.9341182081296724; total time=   0.3s\n"
     ]
    },
    {
     "name": "stderr",
     "output_type": "stream",
     "text": [
      "C:\\Users\\feriocode\\anaconda3\\lib\\site-packages\\sklearn\\linear_model\\_coordinate_descent.py:647: ConvergenceWarning: Objective did not converge. You might want to increase the number of iterations, check the scale of the features or consider increasing regularisation. Duality gap: 1.776e+10, tolerance: 4.869e+08\n",
      "  model = cd_fast.enet_coordinate_descent(\n"
     ]
    },
    {
     "name": "stdout",
     "output_type": "stream",
     "text": [
      "[CV] END ...........................alpha=0.9341182081296724; total time=   0.3s\n"
     ]
    },
    {
     "name": "stderr",
     "output_type": "stream",
     "text": [
      "C:\\Users\\feriocode\\anaconda3\\lib\\site-packages\\sklearn\\linear_model\\_coordinate_descent.py:647: ConvergenceWarning: Objective did not converge. You might want to increase the number of iterations, check the scale of the features or consider increasing regularisation. Duality gap: 1.733e+10, tolerance: 5.166e+08\n",
      "  model = cd_fast.enet_coordinate_descent(\n"
     ]
    },
    {
     "name": "stdout",
     "output_type": "stream",
     "text": [
      "[CV] END ...........................alpha=0.6153319202642722; total time=   0.3s\n"
     ]
    },
    {
     "name": "stderr",
     "output_type": "stream",
     "text": [
      "C:\\Users\\feriocode\\anaconda3\\lib\\site-packages\\sklearn\\linear_model\\_coordinate_descent.py:647: ConvergenceWarning: Objective did not converge. You might want to increase the number of iterations, check the scale of the features or consider increasing regularisation. Duality gap: 8.740e+09, tolerance: 5.438e+08\n",
      "  model = cd_fast.enet_coordinate_descent(\n"
     ]
    },
    {
     "name": "stdout",
     "output_type": "stream",
     "text": [
      "[CV] END ...........................alpha=0.6153319202642722; total time=   0.4s\n"
     ]
    },
    {
     "name": "stderr",
     "output_type": "stream",
     "text": [
      "C:\\Users\\feriocode\\anaconda3\\lib\\site-packages\\sklearn\\linear_model\\_coordinate_descent.py:647: ConvergenceWarning: Objective did not converge. You might want to increase the number of iterations, check the scale of the features or consider increasing regularisation. Duality gap: 1.336e+10, tolerance: 4.886e+08\n",
      "  model = cd_fast.enet_coordinate_descent(\n"
     ]
    },
    {
     "name": "stdout",
     "output_type": "stream",
     "text": [
      "[CV] END ...........................alpha=0.6153319202642722; total time=   0.3s\n"
     ]
    },
    {
     "name": "stderr",
     "output_type": "stream",
     "text": [
      "C:\\Users\\feriocode\\anaconda3\\lib\\site-packages\\sklearn\\linear_model\\_coordinate_descent.py:647: ConvergenceWarning: Objective did not converge. You might want to increase the number of iterations, check the scale of the features or consider increasing regularisation. Duality gap: 1.534e+10, tolerance: 5.353e+08\n",
      "  model = cd_fast.enet_coordinate_descent(\n"
     ]
    },
    {
     "name": "stdout",
     "output_type": "stream",
     "text": [
      "[CV] END ...........................alpha=0.6153319202642722; total time=   0.3s\n"
     ]
    },
    {
     "name": "stderr",
     "output_type": "stream",
     "text": [
      "C:\\Users\\feriocode\\anaconda3\\lib\\site-packages\\sklearn\\linear_model\\_coordinate_descent.py:647: ConvergenceWarning: Objective did not converge. You might want to increase the number of iterations, check the scale of the features or consider increasing regularisation. Duality gap: 1.936e+10, tolerance: 4.869e+08\n",
      "  model = cd_fast.enet_coordinate_descent(\n"
     ]
    },
    {
     "name": "stdout",
     "output_type": "stream",
     "text": [
      "[CV] END ...........................alpha=0.6153319202642722; total time=   0.3s\n"
     ]
    },
    {
     "name": "stderr",
     "output_type": "stream",
     "text": [
      "C:\\Users\\feriocode\\anaconda3\\lib\\site-packages\\sklearn\\linear_model\\_coordinate_descent.py:647: ConvergenceWarning: Objective did not converge. You might want to increase the number of iterations, check the scale of the features or consider increasing regularisation. Duality gap: 2.215e+10, tolerance: 6.429e+08\n",
      "  model = cd_fast.enet_coordinate_descent(\n"
     ]
    },
    {
     "name": "stdout",
     "output_type": "stream",
     "text": [
      "Model: Lasso(alpha=0.9341182081296724, random_state=42, selection='random'), neg_root_mean_squared_error: -45943.54429395886\n",
      "elapsed time: 7.045105934143066 s \n",
      "\n",
      "Fitting RandomForestRegressor\n",
      "Fitting 5 folds for each of 3 candidates, totalling 15 fits\n",
      "[CV] END ...................................n_estimators=500; total time=   5.5s\n",
      "[CV] END ...................................n_estimators=500; total time=   5.1s\n",
      "[CV] END ...................................n_estimators=500; total time=   5.3s\n",
      "[CV] END ...................................n_estimators=500; total time=   6.2s\n",
      "[CV] END ...................................n_estimators=500; total time=   5.2s\n",
      "[CV] END ..................................n_estimators=1000; total time=   9.4s\n",
      "[CV] END ..................................n_estimators=1000; total time=  10.5s\n",
      "[CV] END ..................................n_estimators=1000; total time=  10.4s\n",
      "[CV] END ..................................n_estimators=1000; total time=  10.5s\n",
      "[CV] END ..................................n_estimators=1000; total time=  10.9s\n",
      "[CV] END ...................................n_estimators=250; total time=   2.5s\n",
      "[CV] END ...................................n_estimators=250; total time=   3.0s\n",
      "[CV] END ...................................n_estimators=250; total time=   2.5s\n",
      "[CV] END ...................................n_estimators=250; total time=   2.4s\n",
      "[CV] END ...................................n_estimators=250; total time=   2.4s\n",
      "Model: RandomForestRegressor(n_estimators=1000, n_jobs=-1, random_state=0), neg_root_mean_squared_error: -34468.44042960683\n",
      "elapsed time: 104.52361130714417 s \n",
      "\n",
      "Fitting LinearSVR\n",
      "Fitting 5 folds for each of 3 candidates, totalling 15 fits\n",
      "[CV] END ................................................C=1; total time=   0.1s\n",
      "[CV] END ................................................C=1; total time=   0.2s\n",
      "[CV] END ................................................C=1; total time=   0.2s\n",
      "[CV] END ................................................C=1; total time=   0.2s\n",
      "[CV] END ................................................C=1; total time=   0.1s\n",
      "[CV] END .............................................C=1.25; total time=   0.2s\n",
      "[CV] END .............................................C=1.25; total time=   0.1s\n",
      "[CV] END .............................................C=1.25; total time=   0.2s\n",
      "[CV] END .............................................C=1.25; total time=   0.2s\n",
      "[CV] END .............................................C=1.25; total time=   0.2s\n",
      "[CV] END ..............................................C=0.5; total time=   0.2s\n",
      "[CV] END ..............................................C=0.5; total time=   0.1s\n",
      "[CV] END ..............................................C=0.5; total time=   0.1s\n",
      "[CV] END ..............................................C=0.5; total time=   0.2s\n",
      "[CV] END ..............................................C=0.5; total time=   0.1s\n",
      "Model: LinearSVR(C=0.5, dual=False, loss='squared_epsilon_insensitive', max_iter=10000), neg_root_mean_squared_error: -145132.97503374927\n",
      "elapsed time: 4.254325866699219 s \n",
      "\n",
      "Model: RandomForestRegressor, Score: {'mae': 18818.61357264957, 'mse': 818370974.0048839, 'rmse': 28607.18395796559, 'r2': 0.8012579065124052}, Parameter: RandomForestRegressor(n_estimators=1000, n_jobs=-1, random_state=0)\n"
     ]
    }
   ],
   "source": [
    "main(params)"
   ]
  },
  {
   "cell_type": "code",
   "execution_count": null,
   "id": "2e484a11-8cb3-409a-b32b-0821cdb9c45c",
   "metadata": {},
   "outputs": [],
   "source": []
  },
  {
   "cell_type": "code",
   "execution_count": null,
   "id": "e525bc24-0bef-427c-ab24-413973567f7f",
   "metadata": {},
   "outputs": [],
   "source": []
  }
 ],
 "metadata": {
  "kernelspec": {
   "display_name": "Python 3 (ipykernel)",
   "language": "python",
   "name": "python3"
  },
  "language_info": {
   "codemirror_mode": {
    "name": "ipython",
    "version": 3
   },
   "file_extension": ".py",
   "mimetype": "text/x-python",
   "name": "python",
   "nbconvert_exporter": "python",
   "pygments_lexer": "ipython3",
   "version": "3.9.7"
  }
 },
 "nbformat": 4,
 "nbformat_minor": 5
}
