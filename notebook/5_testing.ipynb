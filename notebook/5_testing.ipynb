{
 "cells": [
  {
   "cell_type": "code",
   "execution_count": 2,
   "id": "5ce0453d-78c5-457f-afb2-28d6979f35d3",
   "metadata": {},
   "outputs": [],
   "source": [
    "import pandas as pd\n",
    "import numpy as np\n",
    "import seaborn as sns\n",
    "import joblib\n",
    "import sklearn\n",
    "from sklearn.linear_model import Lasso\n",
    "from sklearn.ensemble import RandomForestRegressor\n",
    "from sklearn.svm import LinearSVR\n",
    "from sklearn.model_selection import RandomizedSearchCV\n",
    "from sklearn import metrics\n",
    "import yaml\n",
    "import time"
   ]
  },
  {
   "cell_type": "code",
   "execution_count": 33,
   "id": "41d3295c-e50e-4c6b-a897-839493237bab",
   "metadata": {},
   "outputs": [],
   "source": [
    "def read_data_test(params):\n",
    "    x_test = joblib.load(params['DUMP_TEST'])\n",
    "    y_test = joblib.load(params['Y_PATH_TEST'])\n",
    "\n",
    "    return x_test, y_test\n",
    "\n",
    "def evaluate(true, predicted):\n",
    "    mae = metrics.mean_absolute_error(true, predicted)\n",
    "    mse = metrics.mean_squared_error(true, predicted)\n",
    "    rmse = np.sqrt(metrics.mean_squared_error(true, predicted))\n",
    "    r2_square = metrics.r2_score(true, predicted)\n",
    "    mape = metrics.mean_absolute_percentage_error(true, predicted)\n",
    "    exp_var = metrics.explained_variance_score(true, predicted)\n",
    "    return mae, mse, rmse, r2_square, mape, exp_var\n",
    "\n",
    "\n",
    "def prediction_score(x_test, y_test, model_fitted):\n",
    "    \n",
    "    # Report default\n",
    "    y_predicted = model_fitted.predict(x_test)\n",
    "    mae, mse, rmse, r2_square, mape, exp_var = evaluate(y_test, y_predicted)\n",
    "    score = {'mae':mae, 'mse':mse, 'rmse':rmse, 'r2': r2_square, 'mape': mape, 'exp_var': exp_var}\n",
    "\n",
    "    return score"
   ]
  },
  {
   "cell_type": "code",
   "execution_count": 34,
   "id": "d23e1172-84c0-4f07-893c-2b9c7016dc45",
   "metadata": {},
   "outputs": [],
   "source": [
    "def main(params):\n",
    "    model_name = joblib.load(params['MODEL_NAME'])\n",
    "    print(f\"Working on test data with {model_name} model\")\n",
    "    \n",
    "    main_model = joblib.load(params['BEST_MODEL'])\n",
    "    \n",
    "    test_log_dict = {'model': [main_model],\n",
    "                  'model_name': [model_name],\n",
    "                  'model_score': []}\n",
    "\n",
    "    x_test, y_test  = read_data_test(params)\n",
    "    score = prediction_score(x_test, y_test, main_model)\n",
    "    test_log_dict['model_score'].append(score)\n",
    "    joblib.dump(test_log_dict, 'output/isrelated_test_log.pkl')\n",
    "    print(\n",
    "        f\"Model: {test_log_dict['model_name']},\\n Score: {test_log_dict['model_score']},\\n Model's parameter: {test_log_dict['model']}\")\n",
    "    "
   ]
  },
  {
   "cell_type": "code",
   "execution_count": 31,
   "id": "f0a779a3-b17d-43e4-b98e-3b5f709601c9",
   "metadata": {},
   "outputs": [],
   "source": [
    "f = open(\"src/params/preprocess_params.yaml\", \"r\")\n",
    "params = yaml.load(f, Loader=yaml.SafeLoader)\n",
    "f.close()"
   ]
  },
  {
   "cell_type": "code",
   "execution_count": 32,
   "id": "56a87a25-70db-4165-a5a8-9269e1edf52f",
   "metadata": {},
   "outputs": [
    {
     "name": "stdout",
     "output_type": "stream",
     "text": [
      "Working on test data with RandomForestRegressor model\n",
      "Model: ['RandomForestRegressor'],\n",
      " Score: [{'mae': 16892.570407534244, 'mse': 831830028.3032011, 'rmse': 28841.463699042757, 'r2': 0.8653912856536792}],\n",
      " Model's parameter: [RandomForestRegressor(n_estimators=1000, n_jobs=-1, random_state=0)]\n"
     ]
    }
   ],
   "source": [
    "main(params)"
   ]
  },
  {
   "cell_type": "code",
   "execution_count": null,
   "id": "34c79d53-1b77-42d8-96b0-074960735d22",
   "metadata": {},
   "outputs": [],
   "source": []
  }
 ],
 "metadata": {
  "kernelspec": {
   "display_name": "Python 3 (ipykernel)",
   "language": "python",
   "name": "python3"
  },
  "language_info": {
   "codemirror_mode": {
    "name": "ipython",
    "version": 3
   },
   "file_extension": ".py",
   "mimetype": "text/x-python",
   "name": "python",
   "nbconvert_exporter": "python",
   "pygments_lexer": "ipython3",
   "version": "3.9.7"
  }
 },
 "nbformat": 4,
 "nbformat_minor": 5
}
